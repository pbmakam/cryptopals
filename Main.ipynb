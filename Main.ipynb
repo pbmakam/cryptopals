{
  "nbformat": 4,
  "nbformat_minor": 0,
  "metadata": {
    "colab": {
      "name": "Untitled0.ipynb",
      "provenance": [],
      "include_colab_link": true
    },
    "kernelspec": {
      "name": "python3",
      "display_name": "Python 3"
    }
  },
  "cells": [
    {
      "cell_type": "markdown",
      "metadata": {
        "id": "view-in-github",
        "colab_type": "text"
      },
      "source": [
        "<a href=\"https://colab.research.google.com/github/pbmakam/cryptopals/blob/master/Main.ipynb\" target=\"_parent\"><img src=\"https://colab.research.google.com/assets/colab-badge.svg\" alt=\"Open In Colab\"/></a>"
      ]
    },
    {
      "cell_type": "markdown",
      "metadata": {
        "id": "e_lms_0aE2Hp",
        "colab_type": "text"
      },
      "source": [
        "**[the cryptopals crypto challenges](https://www.cryptopals.com/)**\n",
        "\n",
        "\n",
        "*   Set 1: Basics\n",
        "*   Set 2: Block Crypto\n",
        "*   Set 3: Block and Stream Crypto\n",
        "*   Set 4: Stream crypto and randomness\n",
        "*   Set 5: Diffie-Hellman and friends\n",
        "*   Set 6: RSA and DSA\n",
        "*   Set 7: Hashes\n",
        "*   Set 8: Abstract Algebra\n",
        "\n"
      ]
    }
  ]
}